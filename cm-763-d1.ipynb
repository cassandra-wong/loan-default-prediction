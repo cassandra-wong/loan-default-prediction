{
 "cells": [
  {
   "cell_type": "markdown",
   "id": "83f5081e",
   "metadata": {
    "papermill": {
     "duration": 0.020536,
     "end_time": "2021-10-21T21:19:55.814665",
     "exception": false,
     "start_time": "2021-10-21T21:19:55.794129",
     "status": "completed"
    },
    "tags": []
   },
   "source": [
    "In this data challenge, I will use Stacking Ensemble (Logistric Regression, Decision Tree Classifier, XGBoost) to predict whether a client will default depending their characteristics in the data. This will help a bank on deciding to give the loan or not."
   ]
  },
  {
   "cell_type": "code",
   "execution_count": 1,
   "id": "9bdd5fbf",
   "metadata": {
    "_cell_guid": "67f43ce0-6332-417d-956a-e98858f1a016",
    "_uuid": "99de1c0b-b6ea-4098-a762-155e496c5162",
    "collapsed": false,
    "execution": {
     "iopub.execute_input": "2021-10-21T21:19:55.855987Z",
     "iopub.status.busy": "2021-10-21T21:19:55.854884Z",
     "iopub.status.idle": "2021-10-21T21:19:57.166105Z",
     "shell.execute_reply": "2021-10-21T21:19:57.166582Z",
     "shell.execute_reply.started": "2021-10-21T21:16:02.524628Z"
    },
    "jupyter": {
     "outputs_hidden": false
    },
    "papermill": {
     "duration": 1.332503,
     "end_time": "2021-10-21T21:19:57.166922",
     "exception": false,
     "start_time": "2021-10-21T21:19:55.834419",
     "status": "completed"
    },
    "tags": []
   },
   "outputs": [
    {
     "name": "stdout",
     "output_type": "stream",
     "text": [
      "/kaggle/input/f2021-stat441-d1/441D1sam.csv\n",
      "/kaggle/input/f2021-stat441-d1/441D1train.csv\n",
      "/kaggle/input/f2021-stat441-d1/441D1test.csv\n"
     ]
    }
   ],
   "source": [
    "# This Python 3 environment comes with many helpful analytics libraries installed\n",
    "# It is defined by the kaggle/python Docker image: https://github.com/kaggle/docker-python\n",
    "# For example, here's several helpful packages to load\n",
    "\n",
    "import pandas as pd # data processing, CSV file I/O (e.g. pd.read_csv)\n",
    "import numpy as np # linear algebra\n",
    "import seaborn as sns\n",
    "\n",
    "import xgboost as xgb\n",
    "from sklearn.linear_model import LogisticRegression\n",
    "from sklearn.preprocessing import StandardScaler\n",
    "from sklearn.tree import DecisionTreeClassifier\n",
    "from sklearn.model_selection import train_test_split\n",
    "from sklearn.model_selection import cross_val_score, KFold\n",
    "from sklearn.metrics import classification_report\n",
    "\n",
    "# Input data files are available in the read-only \"../input/\" directory\n",
    "# For example, running this (by clicking run or pressing Shift+Enter) will list all files under the input directory\n",
    "\n",
    "import os\n",
    "for dirname, _, filenames in os.walk('/kaggle/input'):\n",
    "    for filename in filenames:\n",
    "        print(os.path.join(dirname, filename))\n",
    "\n",
    "# You can write up to 20GB to the current directory (/kaggle/working/) that gets preserved as output when you create a version using \"Save & Run All\" \n",
    "# You can also write temporary files to /kaggle/temp/, but they won't be saved outside of the current session"
   ]
  },
  {
   "cell_type": "markdown",
   "id": "c56fd5de",
   "metadata": {
    "papermill": {
     "duration": 0.017599,
     "end_time": "2021-10-21T21:19:57.202613",
     "exception": false,
     "start_time": "2021-10-21T21:19:57.185014",
     "status": "completed"
    },
    "tags": []
   },
   "source": [
    "# Import and Overview of the Training Dataset"
   ]
  },
  {
   "cell_type": "markdown",
   "id": "a35e772e",
   "metadata": {
    "papermill": {
     "duration": 0.017321,
     "end_time": "2021-10-21T21:19:57.237457",
     "exception": false,
     "start_time": "2021-10-21T21:19:57.220136",
     "status": "completed"
    },
    "tags": []
   },
   "source": [
    "Load data"
   ]
  },
  {
   "cell_type": "code",
   "execution_count": 2,
   "id": "2a29edaf",
   "metadata": {
    "_cell_guid": "a4307b4c-e7e2-4a8d-bec0-6898ab9e10e9",
    "_uuid": "e7c355e4-5565-44a4-896b-b31e04e34821",
    "collapsed": false,
    "execution": {
     "iopub.execute_input": "2021-10-21T21:19:57.276471Z",
     "iopub.status.busy": "2021-10-21T21:19:57.275520Z",
     "iopub.status.idle": "2021-10-21T21:19:57.436206Z",
     "shell.execute_reply": "2021-10-21T21:19:57.435533Z",
     "shell.execute_reply.started": "2021-10-21T21:16:03.080753Z"
    },
    "jupyter": {
     "outputs_hidden": false
    },
    "papermill": {
     "duration": 0.181278,
     "end_time": "2021-10-21T21:19:57.436357",
     "exception": false,
     "start_time": "2021-10-21T21:19:57.255079",
     "status": "completed"
    },
    "tags": []
   },
   "outputs": [],
   "source": [
    "bank_df = pd.read_csv(\"/kaggle/input/f2021-stat441-d1/441D1train.csv\")"
   ]
  },
  {
   "cell_type": "code",
   "execution_count": 3,
   "id": "04e996e4",
   "metadata": {
    "_cell_guid": "0b4a1c7c-74fc-4a16-b69d-52ef94f3e2f2",
    "_uuid": "2364141d-790a-4e87-bea0-955aadf6972a",
    "collapsed": false,
    "execution": {
     "iopub.execute_input": "2021-10-21T21:19:57.479405Z",
     "iopub.status.busy": "2021-10-21T21:19:57.478782Z",
     "iopub.status.idle": "2021-10-21T21:19:57.482463Z",
     "shell.execute_reply": "2021-10-21T21:19:57.482005Z",
     "shell.execute_reply.started": "2021-10-21T21:16:03.171793Z"
    },
    "jupyter": {
     "outputs_hidden": false
    },
    "papermill": {
     "duration": 0.02839,
     "end_time": "2021-10-21T21:19:57.482601",
     "exception": false,
     "start_time": "2021-10-21T21:19:57.454211",
     "status": "completed"
    },
    "tags": []
   },
   "outputs": [
    {
     "data": {
      "text/plain": [
       "(80000, 10)"
      ]
     },
     "execution_count": 3,
     "metadata": {},
     "output_type": "execute_result"
    }
   ],
   "source": [
    "bank_df.shape"
   ]
  },
  {
   "cell_type": "code",
   "execution_count": 4,
   "id": "b1c16ee8",
   "metadata": {
    "execution": {
     "iopub.execute_input": "2021-10-21T21:19:57.522466Z",
     "iopub.status.busy": "2021-10-21T21:19:57.521586Z",
     "iopub.status.idle": "2021-10-21T21:19:57.597785Z",
     "shell.execute_reply": "2021-10-21T21:19:57.598210Z",
     "shell.execute_reply.started": "2021-10-21T21:16:03.183332Z"
    },
    "papermill": {
     "duration": 0.097822,
     "end_time": "2021-10-21T21:19:57.598377",
     "exception": false,
     "start_time": "2021-10-21T21:19:57.500555",
     "status": "completed"
    },
    "tags": []
   },
   "outputs": [
    {
     "data": {
      "text/html": [
       "<div>\n",
       "<style scoped>\n",
       "    .dataframe tbody tr th:only-of-type {\n",
       "        vertical-align: middle;\n",
       "    }\n",
       "\n",
       "    .dataframe tbody tr th {\n",
       "        vertical-align: top;\n",
       "    }\n",
       "\n",
       "    .dataframe thead th {\n",
       "        text-align: right;\n",
       "    }\n",
       "</style>\n",
       "<table border=\"1\" class=\"dataframe\">\n",
       "  <thead>\n",
       "    <tr style=\"text-align: right;\">\n",
       "      <th></th>\n",
       "      <th>count</th>\n",
       "      <th>mean</th>\n",
       "      <th>std</th>\n",
       "      <th>min</th>\n",
       "      <th>25%</th>\n",
       "      <th>50%</th>\n",
       "      <th>75%</th>\n",
       "      <th>max</th>\n",
       "    </tr>\n",
       "  </thead>\n",
       "  <tbody>\n",
       "    <tr>\n",
       "      <th>Id</th>\n",
       "      <td>80000.0</td>\n",
       "      <td>3.999950e+04</td>\n",
       "      <td>2.309416e+04</td>\n",
       "      <td>0.000000</td>\n",
       "      <td>1.999975e+04</td>\n",
       "      <td>3.999950e+04</td>\n",
       "      <td>5.999925e+04</td>\n",
       "      <td>7.999900e+04</td>\n",
       "    </tr>\n",
       "    <tr>\n",
       "      <th>Income</th>\n",
       "      <td>80000.0</td>\n",
       "      <td>5.082973e+06</td>\n",
       "      <td>2.698214e+06</td>\n",
       "      <td>50.927627</td>\n",
       "      <td>3.079955e+06</td>\n",
       "      <td>4.981044e+06</td>\n",
       "      <td>6.920796e+06</td>\n",
       "      <td>1.710224e+07</td>\n",
       "    </tr>\n",
       "    <tr>\n",
       "      <th>Age</th>\n",
       "      <td>80000.0</td>\n",
       "      <td>4.996355e+01</td>\n",
       "      <td>7.091645e+00</td>\n",
       "      <td>24.000000</td>\n",
       "      <td>4.500000e+01</td>\n",
       "      <td>5.000000e+01</td>\n",
       "      <td>5.500000e+01</td>\n",
       "      <td>8.300000e+01</td>\n",
       "    </tr>\n",
       "    <tr>\n",
       "      <th>Experience</th>\n",
       "      <td>80000.0</td>\n",
       "      <td>1.009044e+01</td>\n",
       "      <td>3.178079e+00</td>\n",
       "      <td>0.000000</td>\n",
       "      <td>8.000000e+00</td>\n",
       "      <td>1.000000e+01</td>\n",
       "      <td>1.200000e+01</td>\n",
       "      <td>2.800000e+01</td>\n",
       "    </tr>\n",
       "    <tr>\n",
       "      <th>Married</th>\n",
       "      <td>80000.0</td>\n",
       "      <td>1.013125e-01</td>\n",
       "      <td>3.017440e-01</td>\n",
       "      <td>0.000000</td>\n",
       "      <td>0.000000e+00</td>\n",
       "      <td>0.000000e+00</td>\n",
       "      <td>0.000000e+00</td>\n",
       "      <td>1.000000e+00</td>\n",
       "    </tr>\n",
       "    <tr>\n",
       "      <th>House_Ownership</th>\n",
       "      <td>80000.0</td>\n",
       "      <td>5.185000e-02</td>\n",
       "      <td>2.217255e-01</td>\n",
       "      <td>0.000000</td>\n",
       "      <td>0.000000e+00</td>\n",
       "      <td>0.000000e+00</td>\n",
       "      <td>0.000000e+00</td>\n",
       "      <td>1.000000e+00</td>\n",
       "    </tr>\n",
       "    <tr>\n",
       "      <th>Car_Ownership</th>\n",
       "      <td>80000.0</td>\n",
       "      <td>2.989875e-01</td>\n",
       "      <td>4.578172e-01</td>\n",
       "      <td>0.000000</td>\n",
       "      <td>0.000000e+00</td>\n",
       "      <td>0.000000e+00</td>\n",
       "      <td>1.000000e+00</td>\n",
       "      <td>1.000000e+00</td>\n",
       "    </tr>\n",
       "    <tr>\n",
       "      <th>CURRENT_JOB_YRS</th>\n",
       "      <td>80000.0</td>\n",
       "      <td>6.340075e+00</td>\n",
       "      <td>2.515254e+00</td>\n",
       "      <td>0.000000</td>\n",
       "      <td>5.000000e+00</td>\n",
       "      <td>6.000000e+00</td>\n",
       "      <td>8.000000e+00</td>\n",
       "      <td>1.900000e+01</td>\n",
       "    </tr>\n",
       "    <tr>\n",
       "      <th>CURRENT_HOUSE_YRS</th>\n",
       "      <td>80000.0</td>\n",
       "      <td>1.199527e+01</td>\n",
       "      <td>3.455854e+00</td>\n",
       "      <td>1.000000</td>\n",
       "      <td>1.000000e+01</td>\n",
       "      <td>1.200000e+01</td>\n",
       "      <td>1.400000e+01</td>\n",
       "      <td>2.900000e+01</td>\n",
       "    </tr>\n",
       "    <tr>\n",
       "      <th>Default</th>\n",
       "      <td>80000.0</td>\n",
       "      <td>4.992250e-01</td>\n",
       "      <td>5.000025e-01</td>\n",
       "      <td>0.000000</td>\n",
       "      <td>0.000000e+00</td>\n",
       "      <td>0.000000e+00</td>\n",
       "      <td>1.000000e+00</td>\n",
       "      <td>1.000000e+00</td>\n",
       "    </tr>\n",
       "  </tbody>\n",
       "</table>\n",
       "</div>"
      ],
      "text/plain": [
       "                     count          mean           std        min  \\\n",
       "Id                 80000.0  3.999950e+04  2.309416e+04   0.000000   \n",
       "Income             80000.0  5.082973e+06  2.698214e+06  50.927627   \n",
       "Age                80000.0  4.996355e+01  7.091645e+00  24.000000   \n",
       "Experience         80000.0  1.009044e+01  3.178079e+00   0.000000   \n",
       "Married            80000.0  1.013125e-01  3.017440e-01   0.000000   \n",
       "House_Ownership    80000.0  5.185000e-02  2.217255e-01   0.000000   \n",
       "Car_Ownership      80000.0  2.989875e-01  4.578172e-01   0.000000   \n",
       "CURRENT_JOB_YRS    80000.0  6.340075e+00  2.515254e+00   0.000000   \n",
       "CURRENT_HOUSE_YRS  80000.0  1.199527e+01  3.455854e+00   1.000000   \n",
       "Default            80000.0  4.992250e-01  5.000025e-01   0.000000   \n",
       "\n",
       "                            25%           50%           75%           max  \n",
       "Id                 1.999975e+04  3.999950e+04  5.999925e+04  7.999900e+04  \n",
       "Income             3.079955e+06  4.981044e+06  6.920796e+06  1.710224e+07  \n",
       "Age                4.500000e+01  5.000000e+01  5.500000e+01  8.300000e+01  \n",
       "Experience         8.000000e+00  1.000000e+01  1.200000e+01  2.800000e+01  \n",
       "Married            0.000000e+00  0.000000e+00  0.000000e+00  1.000000e+00  \n",
       "House_Ownership    0.000000e+00  0.000000e+00  0.000000e+00  1.000000e+00  \n",
       "Car_Ownership      0.000000e+00  0.000000e+00  1.000000e+00  1.000000e+00  \n",
       "CURRENT_JOB_YRS    5.000000e+00  6.000000e+00  8.000000e+00  1.900000e+01  \n",
       "CURRENT_HOUSE_YRS  1.000000e+01  1.200000e+01  1.400000e+01  2.900000e+01  \n",
       "Default            0.000000e+00  0.000000e+00  1.000000e+00  1.000000e+00  "
      ]
     },
     "execution_count": 4,
     "metadata": {},
     "output_type": "execute_result"
    }
   ],
   "source": [
    "bank_df.describe().transpose()"
   ]
  },
  {
   "cell_type": "markdown",
   "id": "1df93d5b",
   "metadata": {
    "papermill": {
     "duration": 0.017991,
     "end_time": "2021-10-21T21:19:57.634349",
     "exception": false,
     "start_time": "2021-10-21T21:19:57.616358",
     "status": "completed"
    },
    "tags": []
   },
   "source": [
    "* Id - Client id\n",
    "* Income - Annual Income\n",
    "* Age - Client age\n",
    "* Experience - Years of experience\n",
    "* Married - 1 for married, 0 for not\n",
    "* House_Ownership - 1 for own a house, 0 for not\n",
    "* Car_Ownership - 1 for own a car, 0 for not\n",
    "* CURRENT_JOB_YRS - Number of years at current job\n",
    "* CURRENT_HOUSE_YEARS - Number of years at current residence (Owned or rented)\n",
    "* Default- 1 for default on the loan, 0 for not"
   ]
  },
  {
   "cell_type": "markdown",
   "id": "1e9122a9",
   "metadata": {
    "papermill": {
     "duration": 0.017777,
     "end_time": "2021-10-21T21:19:57.670237",
     "exception": false,
     "start_time": "2021-10-21T21:19:57.652460",
     "status": "completed"
    },
    "tags": []
   },
   "source": [
    "# Splitting data "
   ]
  },
  {
   "cell_type": "markdown",
   "id": "9f6cc0b4",
   "metadata": {
    "papermill": {
     "duration": 0.017805,
     "end_time": "2021-10-21T21:19:57.706054",
     "exception": false,
     "start_time": "2021-10-21T21:19:57.688249",
     "status": "completed"
    },
    "tags": []
   },
   "source": [
    "We now split the data into train and testing sets. "
   ]
  },
  {
   "cell_type": "code",
   "execution_count": 5,
   "id": "25d34283",
   "metadata": {
    "execution": {
     "iopub.execute_input": "2021-10-21T21:19:57.754324Z",
     "iopub.status.busy": "2021-10-21T21:19:57.753507Z",
     "iopub.status.idle": "2021-10-21T21:19:57.766654Z",
     "shell.execute_reply": "2021-10-21T21:19:57.767254Z",
     "shell.execute_reply.started": "2021-10-21T21:16:03.261916Z"
    },
    "papermill": {
     "duration": 0.043291,
     "end_time": "2021-10-21T21:19:57.767426",
     "exception": false,
     "start_time": "2021-10-21T21:19:57.724135",
     "status": "completed"
    },
    "tags": []
   },
   "outputs": [],
   "source": [
    "from sklearn.preprocessing import StandardScaler, MinMaxScaler\n",
    "from sklearn.model_selection import train_test_split\n",
    "\n",
    "features = list(bank_df.columns)\n",
    "\n",
    "X = bank_df[features[1:-1]].values\n",
    "y = bank_df[features[-1]].values\n",
    "X_train, X_test, y_train, y_test = train_test_split(X, y, test_size = 0.2, random_state = 16)"
   ]
  },
  {
   "cell_type": "code",
   "execution_count": 6,
   "id": "f4664b12",
   "metadata": {
    "execution": {
     "iopub.execute_input": "2021-10-21T21:19:57.828029Z",
     "iopub.status.busy": "2021-10-21T21:19:57.827104Z",
     "iopub.status.idle": "2021-10-21T21:19:57.833429Z",
     "shell.execute_reply": "2021-10-21T21:19:57.833997Z",
     "shell.execute_reply.started": "2021-10-21T21:16:03.290723Z"
    },
    "papermill": {
     "duration": 0.037946,
     "end_time": "2021-10-21T21:19:57.834165",
     "exception": false,
     "start_time": "2021-10-21T21:19:57.796219",
     "status": "completed"
    },
    "tags": []
   },
   "outputs": [
    {
     "name": "stdout",
     "output_type": "stream",
     "text": [
      "['Id', 'Income', 'Age', 'Experience', 'Married', 'House_Ownership', 'Car_Ownership', 'CURRENT_JOB_YRS', 'CURRENT_HOUSE_YRS', 'Default']\n"
     ]
    }
   ],
   "source": [
    "print(features)"
   ]
  },
  {
   "cell_type": "code",
   "execution_count": 7,
   "id": "953ad34f",
   "metadata": {
    "execution": {
     "iopub.execute_input": "2021-10-21T21:19:57.875290Z",
     "iopub.status.busy": "2021-10-21T21:19:57.874668Z",
     "iopub.status.idle": "2021-10-21T21:19:57.879098Z",
     "shell.execute_reply": "2021-10-21T21:19:57.879545Z",
     "shell.execute_reply.started": "2021-10-21T21:16:03.297038Z"
    },
    "papermill": {
     "duration": 0.026136,
     "end_time": "2021-10-21T21:19:57.879702",
     "exception": false,
     "start_time": "2021-10-21T21:19:57.853566",
     "status": "completed"
    },
    "tags": []
   },
   "outputs": [
    {
     "data": {
      "text/plain": [
       "(64000,)"
      ]
     },
     "execution_count": 7,
     "metadata": {},
     "output_type": "execute_result"
    }
   ],
   "source": [
    "X_train.shape\n",
    "y_train.shape"
   ]
  },
  {
   "cell_type": "markdown",
   "id": "157dc308",
   "metadata": {
    "papermill": {
     "duration": 0.019165,
     "end_time": "2021-10-21T21:19:57.919389",
     "exception": false,
     "start_time": "2021-10-21T21:19:57.900224",
     "status": "completed"
    },
    "tags": []
   },
   "source": [
    "# Train Base Learners"
   ]
  },
  {
   "cell_type": "code",
   "execution_count": 8,
   "id": "87f01e01",
   "metadata": {
    "execution": {
     "iopub.execute_input": "2021-10-21T21:19:57.960281Z",
     "iopub.status.busy": "2021-10-21T21:19:57.959702Z",
     "iopub.status.idle": "2021-10-21T21:19:58.308215Z",
     "shell.execute_reply": "2021-10-21T21:19:58.308681Z",
     "shell.execute_reply.started": "2021-10-21T21:16:03.312581Z"
    },
    "papermill": {
     "duration": 0.369898,
     "end_time": "2021-10-21T21:19:58.308881",
     "exception": false,
     "start_time": "2021-10-21T21:19:57.938983",
     "status": "completed"
    },
    "tags": []
   },
   "outputs": [],
   "source": [
    "# Base Learners\n",
    "cls_1 = LogisticRegression()\n",
    "cls_2 = DecisionTreeClassifier(random_state=16)\n",
    "\n",
    "# fit cls_1 on X_train\n",
    "cls_1.fit(X_train, y_train)\n",
    "# fit cls_2 on X_train\n",
    "cls_2.fit(X_train, y_train);"
   ]
  },
  {
   "cell_type": "markdown",
   "id": "a20f193c",
   "metadata": {
    "papermill": {
     "duration": 0.019266,
     "end_time": "2021-10-21T21:19:58.346766",
     "exception": false,
     "start_time": "2021-10-21T21:19:58.327500",
     "status": "completed"
    },
    "tags": []
   },
   "source": [
    "# Test Base Learners"
   ]
  },
  {
   "cell_type": "code",
   "execution_count": 9,
   "id": "ec5429a9",
   "metadata": {
    "execution": {
     "iopub.execute_input": "2021-10-21T21:19:58.386915Z",
     "iopub.status.busy": "2021-10-21T21:19:58.386292Z",
     "iopub.status.idle": "2021-10-21T21:19:58.521988Z",
     "shell.execute_reply": "2021-10-21T21:19:58.522440Z",
     "shell.execute_reply.started": "2021-10-21T21:16:03.698834Z"
    },
    "papermill": {
     "duration": 0.15734,
     "end_time": "2021-10-21T21:19:58.522603",
     "exception": false,
     "start_time": "2021-10-21T21:19:58.365263",
     "status": "completed"
    },
    "tags": []
   },
   "outputs": [
    {
     "name": "stdout",
     "output_type": "stream",
     "text": [
      "Classification report for base learner 1\n",
      "\n",
      "              precision    recall  f1-score   support\n",
      "\n",
      "  No Default     0.4949    1.0000    0.6622      7919\n",
      "     Default     0.0000    0.0000    0.0000      8081\n",
      "\n",
      "    accuracy                         0.4949     16000\n",
      "   macro avg     0.2475    0.5000    0.3311     16000\n",
      "weighted avg     0.2450    0.4949    0.3277     16000\n",
      "\n",
      "\n",
      "\n",
      "Classification report for base learner 2\n",
      "\n",
      "              precision    recall  f1-score   support\n",
      "\n",
      "  No Default     0.9707    0.9689    0.9698      7919\n",
      "     Default     0.9696    0.9713    0.9705      8081\n",
      "\n",
      "    accuracy                         0.9701     16000\n",
      "   macro avg     0.9701    0.9701    0.9701     16000\n",
      "weighted avg     0.9701    0.9701    0.9701     16000\n",
      "\n"
     ]
    },
    {
     "name": "stderr",
     "output_type": "stream",
     "text": [
      "/opt/conda/lib/python3.7/site-packages/sklearn/metrics/_classification.py:1221: UndefinedMetricWarning: Precision and F-score are ill-defined and being set to 0.0 in labels with no predicted samples. Use `zero_division` parameter to control this behavior.\n",
      "  _warn_prf(average, modifier, msg_start, len(result))\n"
     ]
    }
   ],
   "source": [
    "X_test_pred_1 = cls_1.predict(X_test)\n",
    "print(\"Classification report for base learner 1\\n\")\n",
    "print(classification_report(y_test, X_test_pred_1,\n",
    "                            digits = 4,\n",
    "                            target_names=[\"No Default\",\n",
    "                                          \"Default\"]))\n",
    "\n",
    "X_test_pred_2 = cls_2.predict(X_test)\n",
    "print(\"\\n\\nClassification report for base learner 2\\n\")\n",
    "print(classification_report(y_test, X_test_pred_2,\n",
    "                            digits = 4,\n",
    "                            target_names=[\"No Default\",\n",
    "                                          \"Default\"]))"
   ]
  },
  {
   "cell_type": "markdown",
   "id": "c517858d",
   "metadata": {
    "papermill": {
     "duration": 0.019013,
     "end_time": "2021-10-21T21:19:58.561070",
     "exception": false,
     "start_time": "2021-10-21T21:19:58.542057",
     "status": "completed"
    },
    "tags": []
   },
   "source": [
    "# Implementing XGBClassifier"
   ]
  },
  {
   "cell_type": "code",
   "execution_count": 10,
   "id": "05ea7587",
   "metadata": {
    "execution": {
     "iopub.execute_input": "2021-10-21T21:19:58.604634Z",
     "iopub.status.busy": "2021-10-21T21:19:58.603815Z",
     "iopub.status.idle": "2021-10-21T21:19:58.606082Z",
     "shell.execute_reply": "2021-10-21T21:19:58.606508Z",
     "shell.execute_reply.started": "2021-10-21T21:16:03.854028Z"
    },
    "papermill": {
     "duration": 0.026301,
     "end_time": "2021-10-21T21:19:58.606677",
     "exception": false,
     "start_time": "2021-10-21T21:19:58.580376",
     "status": "completed"
    },
    "tags": []
   },
   "outputs": [],
   "source": [
    "xgbc = xgb.XGBClassifier()"
   ]
  },
  {
   "cell_type": "code",
   "execution_count": 11,
   "id": "7f9a2e63",
   "metadata": {
    "execution": {
     "iopub.execute_input": "2021-10-21T21:19:58.650627Z",
     "iopub.status.busy": "2021-10-21T21:19:58.649681Z",
     "iopub.status.idle": "2021-10-21T21:20:02.378602Z",
     "shell.execute_reply": "2021-10-21T21:20:02.379113Z",
     "shell.execute_reply.started": "2021-10-21T21:16:03.86149Z"
    },
    "papermill": {
     "duration": 3.753323,
     "end_time": "2021-10-21T21:20:02.379289",
     "exception": false,
     "start_time": "2021-10-21T21:19:58.625966",
     "status": "completed"
    },
    "tags": []
   },
   "outputs": [
    {
     "name": "stderr",
     "output_type": "stream",
     "text": [
      "/opt/conda/lib/python3.7/site-packages/xgboost/sklearn.py:1146: UserWarning: The use of label encoder in XGBClassifier is deprecated and will be removed in a future release. To remove this warning, do the following: 1) Pass option use_label_encoder=False when constructing XGBClassifier object; and 2) Encode your labels (y) as integers starting with 0, i.e. 0, 1, 2, ..., [num_class - 1].\n",
      "  warnings.warn(label_encoder_deprecation_msg, UserWarning)\n"
     ]
    },
    {
     "name": "stdout",
     "output_type": "stream",
     "text": [
      "[21:19:58] WARNING: ../src/learner.cc:1095: Starting in XGBoost 1.3.0, the default evaluation metric used with the objective 'binary:logistic' was changed from 'error' to 'logloss'. Explicitly set eval_metric if you'd like to restore the old behavior.\n"
     ]
    },
    {
     "data": {
      "text/plain": [
       "XGBClassifier(base_score=0.5, booster='gbtree', colsample_bylevel=1,\n",
       "              colsample_bynode=1, colsample_bytree=1, gamma=0, gpu_id=-1,\n",
       "              importance_type='gain', interaction_constraints='',\n",
       "              learning_rate=0.300000012, max_delta_step=0, max_depth=6,\n",
       "              min_child_weight=1, missing=nan, monotone_constraints='()',\n",
       "              n_estimators=100, n_jobs=4, num_parallel_tree=1, random_state=0,\n",
       "              reg_alpha=0, reg_lambda=1, scale_pos_weight=1, subsample=1,\n",
       "              tree_method='exact', validate_parameters=1, verbosity=None)"
      ]
     },
     "execution_count": 11,
     "metadata": {},
     "output_type": "execute_result"
    }
   ],
   "source": [
    "xgbc.fit(X_train, y_train)"
   ]
  },
  {
   "cell_type": "code",
   "execution_count": 12,
   "id": "cbef3544",
   "metadata": {
    "execution": {
     "iopub.execute_input": "2021-10-21T21:20:02.434227Z",
     "iopub.status.busy": "2021-10-21T21:20:02.423946Z",
     "iopub.status.idle": "2021-10-21T21:20:02.503530Z",
     "shell.execute_reply": "2021-10-21T21:20:02.502604Z",
     "shell.execute_reply.started": "2021-10-21T21:16:07.766032Z"
    },
    "papermill": {
     "duration": 0.104475,
     "end_time": "2021-10-21T21:20:02.503675",
     "exception": false,
     "start_time": "2021-10-21T21:20:02.399200",
     "status": "completed"
    },
    "tags": []
   },
   "outputs": [
    {
     "name": "stdout",
     "output_type": "stream",
     "text": [
      "Training score:  0.99946875\n"
     ]
    }
   ],
   "source": [
    "score = xgbc.score(X_train, y_train)\n",
    "print(\"Training score: \", score)"
   ]
  },
  {
   "cell_type": "code",
   "execution_count": 13,
   "id": "b9849622",
   "metadata": {
    "execution": {
     "iopub.execute_input": "2021-10-21T21:20:02.548000Z",
     "iopub.status.busy": "2021-10-21T21:20:02.547354Z",
     "iopub.status.idle": "2021-10-21T21:20:17.272035Z",
     "shell.execute_reply": "2021-10-21T21:20:17.271518Z",
     "shell.execute_reply.started": "2021-10-21T21:16:07.855195Z"
    },
    "papermill": {
     "duration": 14.748143,
     "end_time": "2021-10-21T21:20:17.272176",
     "exception": false,
     "start_time": "2021-10-21T21:20:02.524033",
     "status": "completed"
    },
    "tags": []
   },
   "outputs": [
    {
     "name": "stdout",
     "output_type": "stream",
     "text": [
      "[21:20:02] WARNING: ../src/learner.cc:1095: Starting in XGBoost 1.3.0, the default evaluation metric used with the objective 'binary:logistic' was changed from 'error' to 'logloss'. Explicitly set eval_metric if you'd like to restore the old behavior.\n"
     ]
    },
    {
     "name": "stderr",
     "output_type": "stream",
     "text": [
      "/opt/conda/lib/python3.7/site-packages/xgboost/sklearn.py:1146: UserWarning: The use of label encoder in XGBClassifier is deprecated and will be removed in a future release. To remove this warning, do the following: 1) Pass option use_label_encoder=False when constructing XGBClassifier object; and 2) Encode your labels (y) as integers starting with 0, i.e. 0, 1, 2, ..., [num_class - 1].\n",
      "  warnings.warn(label_encoder_deprecation_msg, UserWarning)\n"
     ]
    },
    {
     "name": "stdout",
     "output_type": "stream",
     "text": [
      "[21:20:05] WARNING: ../src/learner.cc:1095: Starting in XGBoost 1.3.0, the default evaluation metric used with the objective 'binary:logistic' was changed from 'error' to 'logloss'. Explicitly set eval_metric if you'd like to restore the old behavior.\n",
      "[21:20:08] WARNING: ../src/learner.cc:1095: Starting in XGBoost 1.3.0, the default evaluation metric used with the objective 'binary:logistic' was changed from 'error' to 'logloss'. Explicitly set eval_metric if you'd like to restore the old behavior.\n",
      "[21:20:11] WARNING: ../src/learner.cc:1095: Starting in XGBoost 1.3.0, the default evaluation metric used with the objective 'binary:logistic' was changed from 'error' to 'logloss'. Explicitly set eval_metric if you'd like to restore the old behavior.\n",
      "[21:20:14] WARNING: ../src/learner.cc:1095: Starting in XGBoost 1.3.0, the default evaluation metric used with the objective 'binary:logistic' was changed from 'error' to 'logloss'. Explicitly set eval_metric if you'd like to restore the old behavior.\n",
      "CV mean score:  0.9897031249999999\n"
     ]
    }
   ],
   "source": [
    "from sklearn.model_selection import cross_val_score, KFold\n",
    "\n",
    "cv_score = cross_val_score(xgbc, X_train, y_train, cv=5)\n",
    "print(\"CV mean score: \", cv_score.mean())"
   ]
  },
  {
   "cell_type": "code",
   "execution_count": 14,
   "id": "a8c9d365",
   "metadata": {
    "execution": {
     "iopub.execute_input": "2021-10-21T21:20:17.320674Z",
     "iopub.status.busy": "2021-10-21T21:20:17.319889Z",
     "iopub.status.idle": "2021-10-21T21:20:17.346125Z",
     "shell.execute_reply": "2021-10-21T21:20:17.346703Z",
     "shell.execute_reply.started": "2021-10-21T21:16:24.019978Z"
    },
    "papermill": {
     "duration": 0.052848,
     "end_time": "2021-10-21T21:20:17.346908",
     "exception": false,
     "start_time": "2021-10-21T21:20:17.294060",
     "status": "completed"
    },
    "tags": []
   },
   "outputs": [],
   "source": [
    "y_pred = xgbc.predict(X_test)\n",
    "y_predictions = [float(value) for value in y_pred]"
   ]
  },
  {
   "cell_type": "code",
   "execution_count": 15,
   "id": "a5521c55",
   "metadata": {
    "execution": {
     "iopub.execute_input": "2021-10-21T21:20:17.398648Z",
     "iopub.status.busy": "2021-10-21T21:20:17.397687Z",
     "iopub.status.idle": "2021-10-21T21:20:17.442384Z",
     "shell.execute_reply": "2021-10-21T21:20:17.442867Z",
     "shell.execute_reply.started": "2021-10-21T21:16:24.051612Z"
    },
    "papermill": {
     "duration": 0.073918,
     "end_time": "2021-10-21T21:20:17.443042",
     "exception": false,
     "start_time": "2021-10-21T21:20:17.369124",
     "status": "completed"
    },
    "tags": []
   },
   "outputs": [
    {
     "name": "stdout",
     "output_type": "stream",
     "text": [
      "              precision    recall  f1-score   support\n",
      "\n",
      "         0.0     0.9925    0.9875    0.9900      7919\n",
      "         1.0     0.9878    0.9927    0.9902      8081\n",
      "\n",
      "    accuracy                         0.9901     16000\n",
      "   macro avg     0.9902    0.9901    0.9901     16000\n",
      "weighted avg     0.9901    0.9901    0.9901     16000\n",
      "\n"
     ]
    }
   ],
   "source": [
    "cr = classification_report(y_test,y_predictions, digits = 4)\n",
    "print(cr)"
   ]
  },
  {
   "cell_type": "markdown",
   "id": "6ff12ca7",
   "metadata": {
    "papermill": {
     "duration": 0.022197,
     "end_time": "2021-10-21T21:20:17.487197",
     "exception": false,
     "start_time": "2021-10-21T21:20:17.465000",
     "status": "completed"
    },
    "tags": []
   },
   "source": [
    "# Make Predictions for Test Data"
   ]
  },
  {
   "cell_type": "code",
   "execution_count": 16,
   "id": "0d07582e",
   "metadata": {
    "execution": {
     "iopub.execute_input": "2021-10-21T21:20:17.535396Z",
     "iopub.status.busy": "2021-10-21T21:20:17.534809Z",
     "iopub.status.idle": "2021-10-21T21:20:17.572415Z",
     "shell.execute_reply": "2021-10-21T21:20:17.572877Z",
     "shell.execute_reply.started": "2021-10-21T21:16:24.104613Z"
    },
    "papermill": {
     "duration": 0.06401,
     "end_time": "2021-10-21T21:20:17.573057",
     "exception": false,
     "start_time": "2021-10-21T21:20:17.509047",
     "status": "completed"
    },
    "tags": []
   },
   "outputs": [],
   "source": [
    "test_data = pd.read_csv('/kaggle/input/f2021-stat441-d1/441D1test.csv')"
   ]
  },
  {
   "cell_type": "code",
   "execution_count": 17,
   "id": "a2d3fd3d",
   "metadata": {
    "execution": {
     "iopub.execute_input": "2021-10-21T21:20:17.620948Z",
     "iopub.status.busy": "2021-10-21T21:20:17.620378Z",
     "iopub.status.idle": "2021-10-21T21:20:17.624656Z",
     "shell.execute_reply": "2021-10-21T21:20:17.625111Z",
     "shell.execute_reply.started": "2021-10-21T21:16:24.132703Z"
    },
    "papermill": {
     "duration": 0.029988,
     "end_time": "2021-10-21T21:20:17.625265",
     "exception": false,
     "start_time": "2021-10-21T21:20:17.595277",
     "status": "completed"
    },
    "tags": []
   },
   "outputs": [],
   "source": [
    "features = list(test_data.columns)\n",
    "X = test_data[features[1:]].values"
   ]
  },
  {
   "cell_type": "code",
   "execution_count": 18,
   "id": "3f2a70ac",
   "metadata": {
    "execution": {
     "iopub.execute_input": "2021-10-21T21:20:17.672474Z",
     "iopub.status.busy": "2021-10-21T21:20:17.671916Z",
     "iopub.status.idle": "2021-10-21T21:20:17.676443Z",
     "shell.execute_reply": "2021-10-21T21:20:17.676887Z",
     "shell.execute_reply.started": "2021-10-21T21:16:24.142338Z"
    },
    "papermill": {
     "duration": 0.029663,
     "end_time": "2021-10-21T21:20:17.677045",
     "exception": false,
     "start_time": "2021-10-21T21:20:17.647382",
     "status": "completed"
    },
    "tags": []
   },
   "outputs": [
    {
     "data": {
      "text/plain": [
       "array([[4.42171440e+06, 4.20000000e+01, 1.00000000e+01, ...,\n",
       "        0.00000000e+00, 6.00000000e+00, 1.20000000e+01],\n",
       "       [6.30514344e+05, 5.70000000e+01, 6.00000000e+00, ...,\n",
       "        0.00000000e+00, 9.00000000e+00, 8.00000000e+00],\n",
       "       [1.79154564e+06, 4.40000000e+01, 1.10000000e+01, ...,\n",
       "        1.00000000e+00, 5.00000000e+00, 1.00000000e+01],\n",
       "       ...,\n",
       "       [8.22111810e+06, 5.20000000e+01, 1.40000000e+01, ...,\n",
       "        1.00000000e+00, 7.00000000e+00, 1.10000000e+01],\n",
       "       [3.31848415e+06, 5.10000000e+01, 1.20000000e+01, ...,\n",
       "        0.00000000e+00, 8.00000000e+00, 1.70000000e+01],\n",
       "       [5.41745394e+06, 5.90000000e+01, 1.00000000e+01, ...,\n",
       "        0.00000000e+00, 6.00000000e+00, 8.00000000e+00]])"
      ]
     },
     "execution_count": 18,
     "metadata": {},
     "output_type": "execute_result"
    }
   ],
   "source": [
    "X"
   ]
  },
  {
   "cell_type": "code",
   "execution_count": 19,
   "id": "22e503f9",
   "metadata": {
    "execution": {
     "iopub.execute_input": "2021-10-21T21:20:17.724844Z",
     "iopub.status.busy": "2021-10-21T21:20:17.724248Z",
     "iopub.status.idle": "2021-10-21T21:20:17.757726Z",
     "shell.execute_reply": "2021-10-21T21:20:17.757117Z",
     "shell.execute_reply.started": "2021-10-21T21:16:24.154653Z"
    },
    "papermill": {
     "duration": 0.058416,
     "end_time": "2021-10-21T21:20:17.757903",
     "exception": false,
     "start_time": "2021-10-21T21:20:17.699487",
     "status": "completed"
    },
    "tags": []
   },
   "outputs": [],
   "source": [
    "y_pred = xgbc.predict(X)\n",
    "y_predictions = [float(value) for value in y_pred]"
   ]
  },
  {
   "cell_type": "code",
   "execution_count": 20,
   "id": "ef2cfeda",
   "metadata": {
    "execution": {
     "iopub.execute_input": "2021-10-21T21:20:17.808507Z",
     "iopub.status.busy": "2021-10-21T21:20:17.805664Z",
     "iopub.status.idle": "2021-10-21T21:20:17.813884Z",
     "shell.execute_reply": "2021-10-21T21:20:17.813386Z",
     "shell.execute_reply.started": "2021-10-21T21:16:24.1967Z"
    },
    "papermill": {
     "duration": 0.033516,
     "end_time": "2021-10-21T21:20:17.814032",
     "exception": false,
     "start_time": "2021-10-21T21:20:17.780516",
     "status": "completed"
    },
    "tags": []
   },
   "outputs": [],
   "source": [
    "test_data = pd.DataFrame({'Id' : np.arange(0,X.shape[0]), 'Default' : y_predictions})"
   ]
  },
  {
   "cell_type": "code",
   "execution_count": 21,
   "id": "12647d4e",
   "metadata": {
    "execution": {
     "iopub.execute_input": "2021-10-21T21:20:17.862907Z",
     "iopub.status.busy": "2021-10-21T21:20:17.862251Z",
     "iopub.status.idle": "2021-10-21T21:20:17.869850Z",
     "shell.execute_reply": "2021-10-21T21:20:17.870320Z",
     "shell.execute_reply.started": "2021-10-21T21:16:24.20718Z"
    },
    "papermill": {
     "duration": 0.034015,
     "end_time": "2021-10-21T21:20:17.870478",
     "exception": false,
     "start_time": "2021-10-21T21:20:17.836463",
     "status": "completed"
    },
    "tags": []
   },
   "outputs": [
    {
     "name": "stdout",
     "output_type": "stream",
     "text": [
      "          Id  Default\n",
      "0          0      1.0\n",
      "1          1      1.0\n",
      "2          2      1.0\n",
      "3          3      0.0\n",
      "4          4      1.0\n",
      "...      ...      ...\n",
      "19995  19995      0.0\n",
      "19996  19996      0.0\n",
      "19997  19997      0.0\n",
      "19998  19998      0.0\n",
      "19999  19999      0.0\n",
      "\n",
      "[20000 rows x 2 columns]\n"
     ]
    }
   ],
   "source": [
    "print(test_data)"
   ]
  },
  {
   "cell_type": "code",
   "execution_count": 22,
   "id": "4860f339",
   "metadata": {
    "execution": {
     "iopub.execute_input": "2021-10-21T21:20:17.919676Z",
     "iopub.status.busy": "2021-10-21T21:20:17.919078Z",
     "iopub.status.idle": "2021-10-21T21:20:17.952599Z",
     "shell.execute_reply": "2021-10-21T21:20:17.953105Z",
     "shell.execute_reply.started": "2021-10-21T21:16:24.224563Z"
    },
    "papermill": {
     "duration": 0.060036,
     "end_time": "2021-10-21T21:20:17.953289",
     "exception": false,
     "start_time": "2021-10-21T21:20:17.893253",
     "status": "completed"
    },
    "tags": []
   },
   "outputs": [],
   "source": [
    "test_data.to_csv('submission1.csv', index = False)"
   ]
  }
 ],
 "metadata": {
  "kernelspec": {
   "display_name": "Python 3",
   "language": "python",
   "name": "python3"
  },
  "language_info": {
   "codemirror_mode": {
    "name": "ipython",
    "version": 3
   },
   "file_extension": ".py",
   "mimetype": "text/x-python",
   "name": "python",
   "nbconvert_exporter": "python",
   "pygments_lexer": "ipython3",
   "version": "3.7.10"
  },
  "papermill": {
   "default_parameters": {},
   "duration": 30.748534,
   "end_time": "2021-10-21T21:20:18.686431",
   "environment_variables": {},
   "exception": null,
   "input_path": "__notebook__.ipynb",
   "output_path": "__notebook__.ipynb",
   "parameters": {},
   "start_time": "2021-10-21T21:19:47.937897",
   "version": "2.3.3"
  }
 },
 "nbformat": 4,
 "nbformat_minor": 5
}
